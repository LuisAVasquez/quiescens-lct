{
 "cells": [
  {
   "cell_type": "raw",
   "metadata": {},
   "source": [
    "---\n",
    "aliases:\n",
    "- /Donostia/Spanish bureaucracy/2022/02/16/fees_police_appointments\n",
    "badges: true\n",
    "categories:\n",
    "- Donostia\n",
    "- Spanish bureaucracy\n",
    "date: '2022-02-16'\n",
    "description: Paying administrative fees, making appointments at the Police Office and the Foreigners office\n",
    "output-file: 2022-02-16-fees_police_appointments.html\n",
    "title: 'Settling in Spain: Administrative Fees and Bureaucratic Appointments'\n",
    "toc: true\n",
    "\n",
    "---\n",
    "\n"
   ]
  },
  {
   "cell_type": "markdown",
   "metadata": {},
   "source": [
    ":::{.callout-note collapse=\"false\"}\n",
    "\n",
    "Please read [this guide to the LCT in Spain written by previous students](https://npbeck.github.io/lct-infos/)\n",
    "\n",
    "The Polytechnic University of Catalunya's (UPC) International Office has put together [this great resource](https://www.upc.edu/sri/en/mobility_office/students-mobility-office/incomings/legal-issues) covering all possible cases of Spanish bureaucracy for international students. It contains explanations and tutorials (with pictures to navigate forms and official websites)! Available in English, Spanish, and Catalan.\n",
    "\n",
    ":::\n",
    "\n"
   ]
  },
  {
   "cell_type": "markdown",
   "metadata": {},
   "source": [
    "Spanish bureaucracy is highly digitalised, except when it comes to dealing with foreigners just arriving to the country. While Spanish citizens can do virtually all their bureaucracy online, as a foreigner, some steps require you to go to an office."
   ]
  },
  {
   "cell_type": "markdown",
   "metadata": {},
   "source": [
    "# Administrative Fees"
   ]
  },
  {
   "cell_type": "markdown",
   "metadata": {},
   "source": [
    "Administrative fees, *Tasas*, are required for bureaucratic procedures. They are not that expensive, however, since foreigners cannot easily pay for them online, most straightforward way of doing this is:\n",
    "\n",
    "1. Fill out the form for the administrative fee\n",
    "2. Print it\n",
    "3. Pay it in person"
   ]
  },
  {
   "cell_type": "markdown",
   "metadata": {},
   "source": [
    "## Fee forms\n",
    "\n",
    "\n",
    "To pay a fee, you first have to fill a simple form. Each form has a code (for example `790-012`, `790-052`, ...) and a single form can be used to pay for different administrative procedures.\n",
    "\n",
    "\n",
    "You just have to fill the form with the following information:\n",
    "\n",
    "1. You personal details\n",
    "2. Exactly which procedure you are paying for\n",
    "3. The amount you will pay (in euros)\n",
    "\n",
    "The easiest way is to fill in the form online, as this will automatically calculate the amount you have to pay.\n",
    "\n",
    "As mentioned in a [previous post](https://luisavasquez.github.io/quiescens-lct/posts/2022-02-03-bureaucracy_to_do_spain.html) foreigners have to do bureaucracy at the Foreigners Office and the Police Office.\n",
    "\n",
    ":::{.callout-note collapse=\"false\"}\n",
    "\n",
    "The most common form for the __Foreigners Office__ is form [790-052](https://sede.administracionespublicas.gob.es/pagina/index/directorio/tasa052/language/en) (Available in English).\n",
    "  \n",
    ":::\n",
    "\n",
    ":::{.callout-note collapse=\"false\"}\n",
    "\n",
    "The most common form for the __Police Office__ is form [790-012](https://sede.policia.gob.es/Tasa790_012/ImpresoRellenar)\n",
    "(Only available in Spanish).\n",
    "\n",
    ":::\n",
    "\n",
    "\n"
   ]
  },
  {
   "cell_type": "markdown",
   "metadata": {},
   "source": [
    ":::{.callout-note collapse=\"false\"}\n",
    "\n",
    "\n",
    "[Here](https://sede.policia.gob.es/portalCiudadano/_es/tramites_extranjeria_tasas.php) you can find a list of fees, in euros, for several administrative procedures for foreigners.\n",
    "\n",
    ":::\n",
    "\n"
   ]
  },
  {
   "cell_type": "markdown",
   "metadata": {},
   "source": [
    "## Paying for Fees"
   ]
  },
  {
   "cell_type": "markdown",
   "metadata": {},
   "source": [
    "The easiest way to pay for a fee is to do it in person at an office of the BBVA Bank, as discussed in the guide made by previous LCT students mentioned above.\n",
    "\n",
    "You just have to take with you:\n",
    "- The printed form\n",
    "- An ID\n",
    "- The money\n",
    "  - Cash always works\n",
    "  - If you have a BBVA account, they can charge the fee from your account\n",
    "\n",
    ":::{.callout-important collapse=\"false\"}\n",
    "\n",
    "After paying for a fee you will get a __stamped receipt__, which you will have to show later for your bureaucracy. Keep it!\n",
    "\n",
    ":::"
   ]
  },
  {
   "cell_type": "markdown",
   "metadata": {},
   "source": [
    "# Appointments at the Police Office and Foreigners Office"
   ]
  },
  {
   "cell_type": "markdown",
   "metadata": {},
   "source": [
    "Appointments, _Cita Previa_, at the Police Office and Foreigners Office have to be done online. \n",
    "\n",
    "1. Fortunately, they use the same [platform](https://sede.administracionespublicas.gob.es/pagina/index/directorio/icpplus/language/es_ES).\n",
    "2. Unfortunately, as of 2023, the platform for making appointments only works in Spanish.\n"
   ]
  },
  {
   "cell_type": "markdown",
   "metadata": {},
   "source": [
    "In the Gipuzkoa province, there are two Police Offices and one Foreigners Office.\n",
    "\n",
    "\n",
    "1. The Foreigners Office in Donostia, in the Amara district.\n",
    "   \n",
    "It can get difficult to get appointments at this office, so check if you _really_ need to go in person. Luckily, most of the bureaucracy for which the Foreigners Office is responsible can be done online."
   ]
  },
  {
   "cell_type": "markdown",
   "metadata": {},
   "source": [
    "<iframe src=\"https://www.google.com/maps/embed?pb=!1m18!1m12!1m3!1d5806.796901952952!2d-1.9813924230388726!3d43.3059177381804!2m3!1f0!2f0!3f0!3m2!1i1024!2i768!4f13.1!3m3!1m2!1s0xd51affa37f2db6b%3A0x7d65d9e13b7391a8!2sOficina%20de%20Extranjer%C3%ADa%20en%20San%20Sebasti%C3%A1n!5e0!3m2!1sen!2sfr!4v1712759079919!5m2!1sen!2sfr\" width=\"400\" height=\"300\" style=\"border:0;\" allowfullscreen=\"\" loading=\"lazy\" referrerpolicy=\"no-referrer-when-downgrade\"></iframe>"
   ]
  },
  {
   "cell_type": "markdown",
   "metadata": {},
   "source": [
    "2. The Police Office in Donostia, in the Amara district\n",
    "\n",
    "Queues are _really_ long at this police office, between one or two _months_ after the day of booking the appointment.\n",
    "\n",
    ":::{.callout-important collapse=\"false\"}\n",
    "\n",
    "If you have to come to this office, book the appointment as soon as possible. Booking appointments is independent of whether or not you have all the documents necessary for your procedure.\n",
    ":::"
   ]
  },
  {
   "cell_type": "markdown",
   "metadata": {},
   "source": [
    "<iframe src=\"https://www.google.com/maps/embed?pb=!1m18!1m12!1m3!1d7107.465673869426!2d-1.976233522885866!3d43.309035815349525!2m3!1f0!2f0!3f0!3m2!1i1024!2i768!4f13.1!3m3!1m2!1s0xd51a55ac5fc6ee7%3A0x2928b26234e5eb6b!2sComisar%C3%ADa%20de%20la%20Polic%C3%ADa%20Nacional!5e0!3m2!1sen!2sfr!4v1712759458653!5m2!1sen!2sfr\" width=\"400\" height=\"300\" style=\"border:0;\" allowfullscreen=\"\" loading=\"lazy\" referrerpolicy=\"no-referrer-when-downgrade\"></iframe>"
   ]
  },
  {
   "cell_type": "markdown",
   "metadata": {},
   "source": [
    "2. The Police Office in Donostia, in the Amara district\n",
    "\n",
    "Queues are _really_ long at this police office. Easily, the appointment may occur around one or two _months_ after the day of booking. You will be able choose the date and hour during booking.\n",
    "\n",
    ":::{.callout-important collapse=\"false\"}\n",
    "\n",
    "If you have to come to this office, book the appointment as soon as possible. Booking appointments is independent of whether or not you have all the documents necessary for your procedure.\n",
    ":::"
   ]
  },
  {
   "cell_type": "markdown",
   "metadata": {},
   "source": [
    "3. The Police Office in Irun\n",
    "\n",
    "This is a smaller office with fewer available procedures. They usually have appointments for two or three weeks after booking. You will be able choose the date and hour during booking.\n",
    "\n",
    "Getting to Irun takes one hour on the light metro.\n",
    "\n"
   ]
  },
  {
   "cell_type": "markdown",
   "metadata": {},
   "source": [
    "<iframe src=\"https://www.google.com/maps/embed?pb=!1m18!1m12!1m3!1d2901.7526207496144!2d-1.7949391232308634!3d43.3403653711188!2m3!1f0!2f0!3f0!3m2!1i1024!2i768!4f13.1!3m3!1m2!1s0xd5108f7c0000001%3A0xcbf2219ed87aa9ec!2sComisar%C3%ADa%20de%20la%20Polic%C3%ADa%20Nacional!5e0!3m2!1sen!2sfr!4v1712759668714!5m2!1sen!2sfr\" width=\"400\" height=\"300\" style=\"border:0;\" allowfullscreen=\"\" loading=\"lazy\" referrerpolicy=\"no-referrer-when-downgrade\"></iframe>"
   ]
  }
 ],
 "metadata": {
  "interpreter": {
   "hash": "916dbcbb3f70747c44a77c7bcd40155683ae19c65e1c03b4aa3499c5328201f1"
  },
  "kernelspec": {
   "display_name": "visualization-curriculum-gF8wUgMm",
   "language": "python",
   "name": "python3"
  },
  "language_info": {
   "codemirror_mode": {
    "name": "ipython",
    "version": 3
   },
   "file_extension": ".py",
   "mimetype": "text/x-python",
   "name": "python",
   "nbconvert_exporter": "python",
   "pygments_lexer": "ipython3",
   "version": "3.8.10 (default, Nov 14 2022, 12:59:47) \n[GCC 9.4.0]"
  },
  "varInspector": {
   "cols": {
    "lenName": 16,
    "lenType": 16,
    "lenVar": 40
   },
   "kernels_config": {
    "python": {
     "delete_cmd_postfix": "",
     "delete_cmd_prefix": "del ",
     "library": "var_list.py",
     "varRefreshCmd": "print(var_dic_list())"
    },
    "r": {
     "delete_cmd_postfix": ") ",
     "delete_cmd_prefix": "rm(",
     "library": "var_list.r",
     "varRefreshCmd": "cat(var_dic_list()) "
    }
   },
   "types_to_exclude": [
    "module",
    "function",
    "builtin_function_or_method",
    "instance",
    "_Feature"
   ],
   "window_display": false
  }
 },
 "nbformat": 4,
 "nbformat_minor": 4
}
