{
 "cells": [
  {
   "cell_type": "raw",
   "metadata": {
    "vscode": {
     "languageId": "raw"
    }
   },
   "source": [
    "---\n",
    "aliases:\n",
    "- /Donostia/Spanish bureaucracy/2022/03/01/right_stay_spain\n",
    "badges: true\n",
    "categories:\n",
    "- Donostia\n",
    "- Spanish bureaucracy\n",
    "date: '2022-03-01'\n",
    "description: Making sure you can stay in Spain\n",
    "output-file: 2022-03-01-right_stay_spain.html\n",
    "title: 'Settling in Spain: Right to Stay in Spain'\n",
    "toc: true\n",
    "\n",
    "---\n",
    "\n"
   ]
  },
  {
   "cell_type": "markdown",
   "metadata": {},
   "source": [
    ":::{.callout-note collapse=\"false\"}\n",
    "\n",
    "Please read [this guide to the LCT in Spain written by previous students](https://npbeck.github.io/lct-infos/)\n",
    "\n",
    "The Polytechnic University of Catalunya's (UPC) International Office has put together [this great resource](https://www.upc.edu/sri/en/mobility_office/students-mobility-office/incomings/legal-issues) covering all possible cases of Spanish bureaucracy for international students. It contains explanations and tutorials (with pictures to navigate forms and official websites)! Available in English, Spanish, and Catalan.\n",
    "\n",
    ":::\n",
    "\n"
   ]
  },
  {
   "cell_type": "markdown",
   "metadata": {},
   "source": [
    "When you are arriving to Spain for the first time, and in order to stay for more than six months, you need to have the right to stay in Spain. There are three possible situations, and I will explain in each one what you need to do."
   ]
  },
  {
   "cell_type": "markdown",
   "metadata": {},
   "source": [
    "# You are not European and you arrived with a Student Visa"
   ]
  },
  {
   "cell_type": "markdown",
   "metadata": {},
   "source": [
    "Congratulations! \n",
    "\n",
    ":::{.callout-note collapse=\"false\"}\n",
    "\n",
    "Your Student Visa proofs that you have the right to stay in Spain.\n",
    "\n",
    ":::\n",
    "\n",
    "Now you need to get a TIE!"
   ]
  },
  {
   "cell_type": "markdown",
   "metadata": {},
   "source": [
    "# You are not European and you arrived without a Student Visa"
   ]
  },
  {
   "cell_type": "markdown",
   "metadata": {},
   "source": [
    "In this situation, you took the risk of arriving to Spain as a tourist, hoping to do all the bureaucracy to become an Spanish resident. This situation is not unheard of, however, it is very delicate.\n",
    "\n",
    ":::{.callout-caution collapse=\"false\"}\n",
    "\n",
    "This is _not_ a good situation to be in: It _is_ possible to regularize your situation (and you almost surely will), but it _will_ take time and patience.\n",
    "\n",
    ":::\n",
    "\n",
    "To get the right to stay in Spain you will have to apply for an Authorization of Stay due to Studies [*(Autorización de estancia por estudios*)](https://www.inclusion.gob.es/en/web/migraciones/w/estancia-por-estudios)."
   ]
  },
  {
   "cell_type": "markdown",
   "metadata": {},
   "source": [
    "The documents necessary to get this Authorization are very similar to the ones needed for [applying for a Spanish Student Visa](https://luisavasquez.github.io/quiescens-lct/posts/2022-01-10-spanish_visa.html)."
   ]
  },
  {
   "cell_type": "markdown",
   "metadata": {},
   "source": [
    "You can apply for it in person, at the Foreigners Office, or online, throught the \"Mercurio\" Platform. \n",
    "\n",
    "I would recommend applying in person. If you want to apply online, which accelerates the processing of the application, you will need a Digital Certificate. However, as a non-EU foreigner, you can only get a personal Digital Certificate once you have a TIE. Thus, you would need an __immigration lawyer__ to use their Digital Certificate to make the application on your behalf. This is expensive.\n",
    "\n",
    "\n"
   ]
  },
  {
   "cell_type": "markdown",
   "metadata": {},
   "source": [
    "When your Authorization is approved (which is almost certain if you fulfill all the requirements), you will get a *Resolución* (Resolution or Decision). In this *Resolución* the Foreigners Office will give you the right to stay in Spain. \n",
    "\n",
    "Processing the application takes at most one month. If you do not get an answer within a month, it means the application was _rejected_. \n",
    "\n",
    "In the rare case that your application is rejected, you will be given two weeks to leave Spain. However, an immigration lawyer can help you contest this decision.\n",
    "\n",
    ":::{.callout-note collapse=\"false\"}\n",
    "\n",
    "The favorable *Resolución* proofs that you have the right to stay in Spain.\n",
    "\n",
    ":::\n",
    "\n",
    "\n",
    "After getting the *Resolución*, you need to get a TIE."
   ]
  },
  {
   "cell_type": "markdown",
   "metadata": {},
   "source": [
    "# You are European"
   ]
  },
  {
   "cell_type": "markdown",
   "metadata": {},
   "source": [
    "Just by being from the European Union, you have the right to live and work in any other Member State of EU. \n",
    "\n",
    "To prove that you have the right to stay in Spain, you have to register as a European Citizen living in Spain, by requesting an inscription into the Foreigners' Central Register (*Registro Central de Extranjeros*)."
   ]
  },
  {
   "cell_type": "markdown",
   "metadata": {},
   "source": [
    "This request is made by the procedure called \"Certificate of Inscription of European Union Citizens\" (*Certificado de Registro de Ciudadanos de la Unión Europea*). In Donostia, this is done at the Police Office.\n",
    "\n",
    "\n",
    "The website mentioned above (from the Polytechnic University of Catalunya) goes into the finer details for this procedure."
   ]
  },
  {
   "cell_type": "markdown",
   "metadata": {},
   "source": [
    ":::{.callout-tip collapse=\"false\"}\n",
    "\n",
    "This procedure is very straightforwad and simple. \n",
    "\n",
    "Once you go to your appointment at the Police Office and present all your documents, you will __immediately__ be assigned a __NIE__ and given an Inscription Certificate (*Certificado de Registro ... UE*), which is a small and green paper. \n",
    "\n",
    ":::\n"
   ]
  },
  {
   "cell_type": "markdown",
   "metadata": {},
   "source": [
    ":::{.callout-note collapse=\"false\"}\n",
    "\n",
    "The *Certificado de Registro ... UE* proofs that you have the right to stay in Spain.\n",
    "\n",
    ":::"
   ]
  },
  {
   "cell_type": "markdown",
   "metadata": {},
   "source": [
    "As a European citizen, you do **not** have to get a TIE."
   ]
  }
 ],
 "metadata": {
  "interpreter": {
   "hash": "916dbcbb3f70747c44a77c7bcd40155683ae19c65e1c03b4aa3499c5328201f1"
  },
  "kernelspec": {
   "display_name": "visualization-curriculum-gF8wUgMm",
   "language": "python",
   "name": "python3"
  },
  "language_info": {
   "codemirror_mode": {
    "name": "ipython",
    "version": 3
   },
   "file_extension": ".py",
   "mimetype": "text/x-python",
   "name": "python",
   "nbconvert_exporter": "python",
   "pygments_lexer": "ipython3",
   "version": "3.8.10 (default, Nov 14 2022, 12:59:47) \n[GCC 9.4.0]"
  },
  "varInspector": {
   "cols": {
    "lenName": 16,
    "lenType": 16,
    "lenVar": 40
   },
   "kernels_config": {
    "python": {
     "delete_cmd_postfix": "",
     "delete_cmd_prefix": "del ",
     "library": "var_list.py",
     "varRefreshCmd": "print(var_dic_list())"
    },
    "r": {
     "delete_cmd_postfix": ") ",
     "delete_cmd_prefix": "rm(",
     "library": "var_list.r",
     "varRefreshCmd": "cat(var_dic_list()) "
    }
   },
   "types_to_exclude": [
    "module",
    "function",
    "builtin_function_or_method",
    "instance",
    "_Feature"
   ],
   "window_display": false
  }
 },
 "nbformat": 4,
 "nbformat_minor": 4
}
