{
 "cells": [
  {
   "cell_type": "raw",
   "metadata": {},
   "source": [
    "---\n",
    "aliases:\n",
    "- /bureaucracy/9999/01/01/pending\n",
    "badges: true\n",
    "categories:\n",
    "- bureaucracy\n",
    "date: '9999-01-01'\n",
    "description: TBD\n",
    "image: images/chart-preview.png\n",
    "output-file: 9999-01-01-pending.html\n",
    "title: Pending\n",
    "toc: true\n",
    "\n",
    "---\n",
    "\n"
   ]
  },
  {
   "attachments": {},
   "cell_type": "markdown",
   "metadata": {},
   "source": [
    "Bureaucracy"
   ]
  },
  {
   "attachments": {},
   "cell_type": "markdown",
   "metadata": {},
   "source": [
    "- Registering the French Visa       **DONE**\n",
    "- Getting a French phone number       **DONE**\n",
    "- Registering at the Université de Lorraine **DONE**\n",
    "- Setting up a bank account. **DONE**\n",
    "- Getting vaccinated against COVID in France. Passe sanitaire. Foreign vaccinations. **DONE**\n",
    "- the French public health system. Ameli, Complementaire santé solidaire **DONE**\n",
    "- Applying for and getting housing subsidies CAF **DONE**\n",
    "- extending residence permit?\n",
    "- declaring taxes **DONE**\n",
    "- reinscription? **DONE**"
   ]
  },
  {
   "attachments": {},
   "cell_type": "markdown",
   "metadata": {},
   "source": [
    "Life in Nancy"
   ]
  },
  {
   "attachments": {},
   "cell_type": "markdown",
   "metadata": {},
   "source": [
    "- transport (no student ticket, bus, tram, ) **DONE**\n",
    "- city of nancy: locations, pepiniere, mccarthy, **DONE**\n",
    "- climate **DONE**\n",
    "- buying groceries: Arab market, big Auchan **DONE**"
   ]
  },
  {
   "attachments": {},
   "cell_type": "markdown",
   "metadata": {},
   "source": [
    "Student life"
   ]
  },
  {
   "attachments": {},
   "cell_type": "markdown",
   "metadata": {},
   "source": [
    "- Registering at the Université de Lorraine **DONE**\n",
    "- The platforms of the univeriste de lorraine **DONE**\n",
    "- setting up the WiFi **DONE**\n",
    "\n",
    "- IZLY **DONE**\n",
    "- eating at CROUS. CROUS scholarship.\n",
    "- student discounts around the city **DONE**\n",
    "  - sports and activities **DONE**\n",
    "  - opera, theater, museums **DONE**\n",
    "  - maison de l'etudiant **DONE**\n",
    "\n",
    "- first month: intense. busy. meeting everyone. **DONE**\n",
    "\n",
    "- first semester: intense. Really bysy. Alternance. **DONE**\n",
    " - calendar is a mess **DONE**\n",
    "\n",
    "- courses and projects of the first semester overview **DONE**\n",
    "\n",
    "- practical advise for the first semester. Profile (Linux, Latex, Git, Programming notions) **DONE**\n",
    "\n",
    "- courses and projects of the second semester overview **DONE**\n",
    "\n",
    "- practical advise for the second semester **DONE**\n",
    "\n",
    "- getting a Summer Internship: go crazy! go local!\n",
    "\n",
    "- master overview: disorganized, shallow depth, best = people"
   ]
  },
  {
   "attachments": {},
   "cell_type": "markdown",
   "metadata": {},
   "source": [
    "The war in Ukraine!"
   ]
  },
  {
   "attachments": {},
   "cell_type": "markdown",
   "metadata": {},
   "source": [
    "- Leaving nancy\n",
    "\n",
    "  - leaving the residence: 1 month notice! **DONE**\n",
    "  - closing bank account **DONE**\n",
    "  - Doing inscription Pedagogique for the 2nd year!\n",
    "  - still a student of university of lorraine\n",
    "  - maybe declare taxes **DONE**\n",
    "\n",
    "\n",
    "\n",
    "- applying for spanish student visa **DONE**\n",
    "- picking up the visa **DONE**\n",
    " \n",
    "\n",
    "\n",
    "\n",
    "\n",
    "- overview about living in France\n",
    "- overview from a latin american perspective\n",
    "  - order, \n",
    "  - clean\n",
    "  - bureaucracy: you can talk it out\n",
    "  - inequality: racial vs social\n",
    "  - leisure: so many hobbies\n",
    "  - a present estate: subsidies (inflation)\n",
    "  - judge each other in silence. ego?\n",
    "  - box-ticking attitude?\n",
    "  - winter\n",
    "  - dating\n",
    "\n"
   ]
  },
  {
   "attachments": {},
   "cell_type": "markdown",
   "metadata": {},
   "source": [
    "# Getting ready for Spain\n",
    "\n",
    "- visa **DONE**\n",
    "- picking courses (ask previous students!). meetings with coordinators\n",
    "- Get a NIE if you can\n",
    "- Start looking for ACCOMODATION **DONE**"
   ]
  },
  {
   "attachments": {},
   "cell_type": "markdown",
   "metadata": {},
   "source": [
    "# Summer\n",
    "\n",
    "- internship\n",
    "- traveling\n",
    "- summer school"
   ]
  },
  {
   "attachments": {},
   "cell_type": "markdown",
   "metadata": {},
   "source": [
    "# Arriving to Spain\n",
    "\n",
    "- SIM **DONE**\n",
    "- Bank\n",
    "- Registering at UPV\n",
    "- ACCOMODATION **DONE**\n",
    "- Empadronamiento\n",
    "- TIE\n"
   ]
  },
  {
   "attachments": {},
   "cell_type": "markdown",
   "metadata": {},
   "source": [
    "# Studying in Donostia\n",
    "\n",
    "- picking courses\n",
    "- registering at UPV\n",
    "- internship"
   ]
  },
  {
   "attachments": {},
   "cell_type": "markdown",
   "metadata": {},
   "source": [
    "# Life in Donostia\n",
    "\n",
    "- transportation:\n",
    "  - mugi\n",
    "  - dbus\n",
    "  - outside donostia: euskotren, to france, airports\n",
    "\n",
    "- the city\n",
    "  - very beautiful\n",
    "  - very lively\n",
    "  - best in summer\n",
    "  - renters\n",
    "  - everything is close enough\n",
    "  - expensive AF\n",
    "\n",
    "- the student life\n",
    "  - ESN\n",
    "  - pintxopote\n",
    "\n",
    "\n",
    "- university\n",
    "  - big difference between year one and year two\n",
    "  - same courses for both years\n",
    "  - disorganized, more than france\n",
    "  - unhelpful coordinators\n",
    "  - \n",
    "\n",
    "- sports:\n",
    "  - beach\n",
    "  - kirol\n",
    "  - erasmus groups\n",
    "  - ice skating"
   ]
  },
  {
   "attachments": {},
   "cell_type": "markdown",
   "metadata": {},
   "source": [
    "# Fix cross references\n",
    "git grep\n",
    "\n",
    "- \"own post\"\n",
    "- \"future post\"\n",
    "- \"previous post\""
   ]
  },
  {
   "attachments": {},
   "cell_type": "markdown",
   "metadata": {},
   "source": []
  }
 ],
 "metadata": {
  "kernelspec": {
   "display_name": "Python 3.8.10 ('dsvenv')",
   "language": "python",
   "name": "python3"
  },
  "language_info": {
   "codemirror_mode": {
    "name": "ipython",
    "version": 3
   },
   "file_extension": ".py",
   "mimetype": "text/x-python",
   "name": "python",
   "nbconvert_exporter": "python",
   "pygments_lexer": "ipython3",
   "version": "3.8.10 (default, Nov 14 2022, 12:59:47) \n[GCC 9.4.0]"
  },
  "varInspector": {
   "cols": {
    "lenName": 16,
    "lenType": 16,
    "lenVar": 40
   },
   "kernels_config": {
    "python": {
     "delete_cmd_postfix": "",
     "delete_cmd_prefix": "del ",
     "library": "var_list.py",
     "varRefreshCmd": "print(var_dic_list())"
    },
    "r": {
     "delete_cmd_postfix": ") ",
     "delete_cmd_prefix": "rm(",
     "library": "var_list.r",
     "varRefreshCmd": "cat(var_dic_list()) "
    }
   },
   "types_to_exclude": [
    "module",
    "function",
    "builtin_function_or_method",
    "instance",
    "_Feature"
   ],
   "window_display": false
  },
  "vscode": {
   "interpreter": {
    "hash": "997ed75ad1253b081b4bd25360b6bcbfad76026706cda5a0c094d1371ade530f"
   }
  }
 },
 "nbformat": 4,
 "nbformat_minor": 4
}
