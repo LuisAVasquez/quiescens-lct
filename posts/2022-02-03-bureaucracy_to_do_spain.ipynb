{
 "cells": [
  {
   "cell_type": "raw",
   "metadata": {},
   "source": [
    "---\n",
    "aliases:\n",
    "- /Donostia/Spanish bureaucracy/2022/02/03/bureaucracy_to_do_spain\n",
    "badges: true\n",
    "categories:\n",
    "- Donostia\n",
    "- Spanish bureaucracy\n",
    "date: '2022-02-03'\n",
    "description: NIE, TIE, Empadronamiento, and all that\n",
    "output-file: 2022-02-03-bureaucracy_to_do_spain.html\n",
    "title: 'Settling in Spain: bureaucracy as an international student'\n",
    "toc: true\n",
    "\n",
    "---\n",
    "\n"
   ]
  },
  {
   "cell_type": "markdown",
   "metadata": {},
   "source": [
    ":::{.callout-note collapse=\"false\"}\n",
    "\n",
    "Please read [this guide to the LCT in Spain written by previous students](https://npbeck.github.io/lct-infos/)\n",
    "\n",
    "The Polytechnic University of Catalunya's (UPC) International Office has put together [this great resource](https://www.upc.edu/sri/en/mobility_office/students-mobility-office/incomings/legal-issues) covering all possible cases of Spanish bureaucracy for international students. It contains explanations and tutorials (with pictures to navigate forms and official websites)! Available in English, Spanish, and Catalan.\n",
    "\n",
    ":::\n",
    "\n"
   ]
  },
  {
   "cell_type": "markdown",
   "metadata": {},
   "source": [
    "Unlike France, there was not a _lot_ of bureaucracy to do in order to settle in Spain. The main bottleneck came from the lack of understandable instructions to do the bureaucratic procedures. \n",
    "\n",
    "That meant that figuring out what to do usually took longer than actually doing it. The information on official websites can be confusing and only available in Spanish. We noticed that the easiest way to understand any procedure was to ask someone who had done it before.\n",
    "\n",
    "Before mentioning all the bureaucracy you have to do to start your time in Donostia, there are some concepts that will be necessary.\n",
    "\n"
   ]
  },
  {
   "cell_type": "markdown",
   "metadata": {},
   "source": [
    "# Definitions"
   ]
  },
  {
   "cell_type": "markdown",
   "metadata": {},
   "source": [
    "This is an overview of what you need to know in order to start doing your Spanish bureaucracy."
   ]
  },
  {
   "cell_type": "markdown",
   "metadata": {},
   "source": [
    "## NIE\n",
    "\n",
    "The NIE (_Número de Identidad de Extranjero_) is your Foreigner Identity Number. It will be uniquely linked to you, and you will need it for most bureaucracy.\n",
    "\n",
    "If you become a tax resident in Spain, the NIE is also your tax system ID (_Número de Identificación Fiscal_ NIF).\n",
    "\n",
    "The DNI (documento nacional de identidad) is the equivalent for Spanish citizens, so many people use this term. You’ll generally get asked for your “De-ne-ee”: your NIE is the correct response!\n",
    "\n",
    "## TIE\n",
    "\n",
    "The TIE (_Tarjeta de Identidad de Extranjero_) is the physical card for your residence permit. It serves as an ID card for foreigners. If you get a new TIE, for example by asking for an extension of your permit, then your new TIE will keep the same NIE.\n",
    "\n",
    "## Empadronamiento\n",
    "\n",
    "This is simply registering your address with the local town hall. You can do it without a NIE, just using with your passport. You will need a valid proof of accomodation.\n",
    "\n",
    "## Estancia VS Residencia\n",
    "\n",
    "In most countries, there are only two possible ways in which a foreigner can legally be on their territory: as a tourist, or as a resident. Tourists have very limited rights (for example, they cannot work), and residents have almost the same rights as a citizen (for example, they can use the public health system).\n",
    "\n",
    "However, Spain has a third option, called _Estancia_ (litterally, \"stay\"). _Estancia_ is an intermediate status between a tourist and a resident. For example, people with _Estancia_ are allowed to work, but cannot use the public health system.\n",
    "\n",
    "Why is this important?\n",
    "\n",
    "- __non-EU foreign students can only get *Estancia*__. \n",
    "- EU citizens can get a _Residencia_ just by moving to Spain.\n",
    "- In principle, non-EU foreign students can change their _Estancia_ to a _Residencia_ only after finishing their studies.\n",
    "- For the purpose of getting Spanish nationality, only the time under _Residencia_ counts, not the time under _Estancia_.\n",
    "\n",
    "\n",
    "## Digital Certificates\n",
    "\n",
    "One of the big advantages of Spain is that most common bureacracy can be done online. After you get your first TIE, you can get Digital Certificates, which are used to digitally sign documents and online forms.\n",
    "\n",
    "\n",
    "## The Foreigners Office and The Police Office\n",
    "\n",
    "In most countries, all bureaucracy concerning foreigners is done at the Foreigners Office (_Oficina de Extranjería_). However, in Spain, these duties are split between the Foreigners Office and the Police Office (_Comisaría de la Policía Nacional_). \n",
    "\n",
    "It is useful to keep this difference in mind, because both offices use the same website to request appointments.\n",
    "\n",
    "The Police Office is in charge of producing TIEs, while all other bureaucracy is done by the Foreigners Office.\n",
    "\n",
    "This can lead to weird situations. For example, if you ask for an extension of your permit, and it is approved after the expiration date of your current permit, then you will get a document from the Foreigners Office saying that you are legally allowed to be in Spain, even when you do not have a valid TIE yet (of course, you would have to request a new TIE at the Police as soon as possible).\n",
    "\n",
    ":::{.callout-note collapse=\"false\"}\n",
    "\n",
    "The Foreigners Office has a decent digital platform, called [MERCURIO](https://sede.administracionespublicas.gob.es/procedimientos/index/categoria/34), where most bureaucracy can be done online.\n",
    "\n",
    "The Police Office requires most of it bureaucracy to be done in person.\n",
    ":::\n",
    "\n",
    "\n",
    "\n",
    "\n",
    "\n"
   ]
  },
  {
   "cell_type": "markdown",
   "metadata": {},
   "source": [
    "## Bureaucratic culture\n",
    "\n",
    "Spanish administrative personnel in Donostia tend to be very helpful, even when you do not speak much Spanish or they do not speak much English. \n",
    "\n",
    "Feel free to ask for clarifications, help filling out forms, and all the instructions you may need.\n",
    "\n",
    "Even in those cases when booking appointments is necessary, Spanish bureaucrats in Donostia are flexible with time. If you arrive _earlier_ to your appointment, they will take you in, even if you are early by several hours. Arriving _later_ will be a problem if the queues are long, so, do not arrive later than 15 minutes. \n",
    "\n",
    "If you have very specific issues or a complicated bureaucratic question, it is best for you to go accompanied by a native spanish speaker."
   ]
  },
  {
   "cell_type": "markdown",
   "metadata": {},
   "source": [
    "# To-do list of bureaucracy"
   ]
  },
  {
   "cell_type": "markdown",
   "metadata": {},
   "source": [
    ":::{.callout-caution collapse=\"false\"}\n",
    "\n",
    "If you do need at appointment (*cita previa*) at the Foreigners Office or the Police Office, book it as soon as you arrive to Spain!\n",
    "\n",
    "Queues are long and some inmigration bureaucracy have deadlines!\n",
    "\n",
    "\n",
    "> For example, if you need a TIE, you must apply for it during the first 30 days after entering Spain. \n",
    "\n",
    "> Note that getting an appointment counts as starting the application process, so, if your appointment is more than 30 days after entering Spain, you will be ok.\n",
    "\n",
    ":::\n"
   ]
  },
  {
   "cell_type": "markdown",
   "metadata": {},
   "source": [
    "In order to settle in Spain, these are the following steps.\n",
    "\n",
    "## Inmigration bureaucracy\n",
    "\n",
    "1. Get a NIE\n",
    "2. Get an _Empadronamiento_\n",
    "3. Make sure you have a Right to Stay in Spain\n",
    "4. Get a TIE\n",
    "5. Get your Digital Certificates\n",
    "6. Get your Social Security Number\n",
    "7. Optional: Ask for a permit extension\n",
    "8. Optional for Year 2 students: Ask for a Job Seeker visa\n",
    "\n",
    "\n",
    "## University bureaucracy\n",
    "\n",
    "1. Register at the University of the Basque Country\n",
    "2. Pick your courses\n",
    "3. Get your student account\n",
    "4. Only for year 2 students:\n",
    "   1. Internship\n",
    "   2. Master Thesis\n"
   ]
  }
 ],
 "metadata": {
  "interpreter": {
   "hash": "916dbcbb3f70747c44a77c7bcd40155683ae19c65e1c03b4aa3499c5328201f1"
  },
  "kernelspec": {
   "display_name": "visualization-curriculum-gF8wUgMm",
   "language": "python",
   "name": "python3"
  },
  "language_info": {
   "codemirror_mode": {
    "name": "ipython",
    "version": 3
   },
   "file_extension": ".py",
   "mimetype": "text/x-python",
   "name": "python",
   "nbconvert_exporter": "python",
   "pygments_lexer": "ipython3",
   "version": "3.8.10 (default, Nov 14 2022, 12:59:47) \n[GCC 9.4.0]"
  },
  "varInspector": {
   "cols": {
    "lenName": 16,
    "lenType": 16,
    "lenVar": 40
   },
   "kernels_config": {
    "python": {
     "delete_cmd_postfix": "",
     "delete_cmd_prefix": "del ",
     "library": "var_list.py",
     "varRefreshCmd": "print(var_dic_list())"
    },
    "r": {
     "delete_cmd_postfix": ") ",
     "delete_cmd_prefix": "rm(",
     "library": "var_list.r",
     "varRefreshCmd": "cat(var_dic_list()) "
    }
   },
   "types_to_exclude": [
    "module",
    "function",
    "builtin_function_or_method",
    "instance",
    "_Feature"
   ],
   "window_display": false
  }
 },
 "nbformat": 4,
 "nbformat_minor": 4
}
