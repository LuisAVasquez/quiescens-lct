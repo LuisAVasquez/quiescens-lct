{
 "cells": [
  {
   "cell_type": "raw",
   "metadata": {},
   "source": [
    "---\n",
    "aliases:\n",
    "- /2021/12/23/summer_internship_france\n",
    "- /LCT Year 1/2021/12/23/summer_internship_france\n",
    "badges: true\n",
    "categories:\n",
    "- LCT Year 1\n",
    "date: '2021-12-23'\n",
    "description: An opportunity to work on a small project.\n",
    "output-file: 2021-12-23-summer_internship_france.html\n",
    "title: 'Summer Internships in France'\n",
    "toc: true\n",
    "\n",
    "---\n",
    "\n"
   ]
  },
  {
   "cell_type": "markdown",
   "metadata": {},
   "source": [
    "If you come to Lorraine for your first year of the LCT, you will most likely do your thesis and internship during your second year, that is, at your Year 2 University, so you should check their requirements.  The University of Lorraine will not make a fuss about an internship or thesis in the first year, because it is not part of the credits necessary for the M1 Program.\n",
    "Remember, the workload of the first year is too heavy! However, what you can do is a Summer Internship at the end of the first year."
   ]
  },
  {
   "cell_type": "markdown",
   "metadata": {},
   "source": [
    "In France, summer internships are usually done between June and August.  Since the Summer Semester at the University of Lorraine technically ends at the end of August, it is very difficult to have a summer internship going beyond this date\n",
    "\n",
    ":::{.callout-note collapse=\"true\"}\n",
    "\n",
    "\n",
    "Technically, to have a summer internship going into September, you’d have to do two summer internships, for example, one from July to the last day of August, and one from the first day of September, till October. This involves more paperwork.\n",
    "\n",
    "\n",
    ":::"
   ]
  },
  {
   "cell_type": "markdown",
   "metadata": {},
   "source": [
    "# To keep in mind"
   ]
  },
  {
   "cell_type": "markdown",
   "metadata": {},
   "source": [
    "\n",
    "- Summer internships in France are __paid__ (not a lot, though)\n",
    "- The University of Lorraine will __not__ recognize it for ECTS credits\n",
    "- That means, you __cannot__ have a summer internship recognized for the LCT\n",
    "- You cannot do your thesis on a summer internship \n",
    "- Given that they are short internships, they consist in very specific projects\n",
    "- It is very difficult to get a summer internship at a company\n",
    "- Check your work benefits, like paid vacation days\n",
    "- You don’t have to pay taxes on your internship salary\n",
    "\n",
    "With all this in consideration, students get summer internships for two main reasons:\n",
    "\n",
    "- To make some extra money during the summer\n",
    "- To do a small research project on something that interests you\n",
    "\n"
   ]
  },
  {
   "cell_type": "markdown",
   "metadata": {},
   "source": [
    "# How to get a summer internship?"
   ]
  },
  {
   "cell_type": "markdown",
   "metadata": {},
   "source": [
    "The easiest way to get one of these internships is to ask your professors for small projects. They may also know some other professor with a project!\n",
    "\n",
    "Keep in mind that the earlier you start looking for a summer internship, the better chances you have. Do not be afraid to approach your professors!"
   ]
  },
  {
   "cell_type": "markdown",
   "metadata": {},
   "source": [
    "# The paperwork\n",
    "\n",
    "In order to start a summer internship, there is some bureaucratic ping-pong you have to go through. At the end, the company/organization and the university sign an agreement that allows you to work as an intern.\n",
    "\n",
    "1. First, the Secretary of the IDMC sends you the agreement for you to sign\n",
    "2. Then, you have to send it to the company/organization for them to sign\n",
    "3. Then, the company/organization has to send the agreement to the Secretary to be checked\n",
    "4. Then, you have to show you have appropriate insurance: \"responsabilité civile\"\n",
    "   - The insurance from the LCT program or the insurance you used to rent your accomodation should be fine.\n",
    "5. Then, the agreement is signed by the head of the IDMC and the Master's coordinator.\n",
    "6. Then, the final agreement is sent to you.\n",
    "7. Then, the final agreement is sent to the company/organization.\n"
   ]
  },
  {
   "cell_type": "markdown",
   "metadata": {},
   "source": [
    "# My case"
   ]
  },
  {
   "cell_type": "markdown",
   "metadata": {},
   "source": [
    "I did a summer internship from the beginning of July till the end of August 2022. After asking one of the professors in a course that I really liked if they had any project, they came back after a few weeks with an answer. They had a colleague at one of the museums associated with the University of Lorraine that wanted to incorporate NLP into their work. \n",
    "\n",
    "The paperwork was not very complicated because the museum was part of the University, and they paid me minimum salary for internships, which was around 600€/month. Especifically, all the paperwork was done online via email. I have heard that for companies or organizations outside of the University, sometimes the paperwork has to be done via physical mail.\n",
    "\n",
    "The internship was at the [Henri Poincare Archive](http://poincare.univ-lorraine.fr/fr), a museum and research center on history of science and mathematics. The project consisted of improving the search engine they had for their digital collections of 18-th century letters, which at that time only used metadata (date of publication, author, receiver, language, etc ), and now they wanted to also use the content of the letters. \n",
    "\n",
    "I was tutored by a PhD student doing their thesis there. After some unsuccessful attempts to use topic modeling, I used a SPARQL database, spacy, and formal concept analysis to finish the project.\n",
    "\n",
    "The first month was in person, and the second month was remote (because everybody goes on vacation in August and the buildings of the University close), and they were ok with me traveling around. \n",
    "\n",
    "By the end, I had to write a short report and make a presentation, and that was it.\n"
   ]
  }
 ],
 "metadata": {
  "interpreter": {
   "hash": "916dbcbb3f70747c44a77c7bcd40155683ae19c65e1c03b4aa3499c5328201f1"
  },
  "kernelspec": {
   "display_name": "visualization-curriculum-gF8wUgMm",
   "language": "python",
   "name": "python3"
  },
  "language_info": {
   "codemirror_mode": {
    "name": "ipython",
    "version": 3
   },
   "file_extension": ".py",
   "mimetype": "text/x-python",
   "name": "python",
   "nbconvert_exporter": "python",
   "pygments_lexer": "ipython3",
   "version": "3.8.10 (default, Nov 14 2022, 12:59:47) \n[GCC 9.4.0]"
  },
  "varInspector": {
   "cols": {
    "lenName": 16,
    "lenType": 16,
    "lenVar": 40
   },
   "kernels_config": {
    "python": {
     "delete_cmd_postfix": "",
     "delete_cmd_prefix": "del ",
     "library": "var_list.py",
     "varRefreshCmd": "print(var_dic_list())"
    },
    "r": {
     "delete_cmd_postfix": ") ",
     "delete_cmd_prefix": "rm(",
     "library": "var_list.r",
     "varRefreshCmd": "cat(var_dic_list()) "
    }
   },
   "types_to_exclude": [
    "module",
    "function",
    "builtin_function_or_method",
    "instance",
    "_Feature"
   ],
   "window_display": false
  }
 },
 "nbformat": 4,
 "nbformat_minor": 4
}
