{
 "cells": [
  {
   "cell_type": "raw",
   "metadata": {
    "vscode": {
     "languageId": "raw"
    }
   },
   "source": [
    "---\n",
    "aliases:\n",
    "- /Donostia/Spanish bureaucracy/2022/03/10/get_tie\n",
    "badges: true\n",
    "categories:\n",
    "- Donostia\n",
    "- Spanish bureaucracy\n",
    "date: '2022-03-10'\n",
    "description: Your Foreigner Identity Card\n",
    "output-file: 2022-03-10-get_tie.html\n",
    "title: 'Settling in Spain: How to get a TIE'\n",
    "toc: true\n",
    "\n",
    "---\n",
    "\n"
   ]
  },
  {
   "cell_type": "markdown",
   "metadata": {},
   "source": [
    ":::{.callout-note collapse=\"false\"}\n",
    "\n",
    "Please read [this guide to the LCT in Spain written by previous students](https://npbeck.github.io/lct-infos/)\n",
    "\n",
    "The Polytechnic University of Catalunya's (UPC) International Office has put together [this great resource](https://www.upc.edu/sri/en/mobility_office/students-mobility-office/incomings/legal-issues) covering all possible cases of Spanish bureaucracy for international students. It contains explanations and tutorials (with pictures to navigate forms and official websites)! Available in English, Spanish, and Catalan.\n",
    "\n",
    ":::\n",
    "\n"
   ]
  },
  {
   "cell_type": "markdown",
   "metadata": {},
   "source": [
    "If you are a non-EU citizen staying for more than six months in Spain, you have to get a TIE to be legal in Spain. \n",
    "The TIE (_Tarjeta de Identidad de Extranjero_) is the physical card for your residence permit. It serves as an ID card for foreigners. "
   ]
  },
  {
   "cell_type": "markdown",
   "metadata": {},
   "source": [
    ":::{.callout-note collapse=\"false\"}\n",
    "\n",
    "If you are an EU citizen, you do not need to get a TIE.\n",
    "\n",
    "If you are not an EU citizen, as a student, you will get a TIE for *Estancia*, not for *Residencia*.\n",
    "\n",
    ":::"
   ]
  },
  {
   "cell_type": "markdown",
   "metadata": {},
   "source": [
    "The Police Office is in charge of producing TIEs.\n",
    "\n",
    ":::{.callout-caution collapse=\"false\"}\n",
    "\n",
    "Getting a TIE requires making **two** [appointments at the Police Office](https://luisavasquez.github.io/quiescens-lct/posts/2022-02-16-fees_police_appointments.html).\n",
    "\n",
    "The first appointment is to request the TIE, and the second appointment is to pick it up.\n",
    "\n",
    ":::"
   ]
  },
  {
   "cell_type": "markdown",
   "metadata": {},
   "source": [
    "# Requesting the TIE"
   ]
  },
  {
   "cell_type": "markdown",
   "metadata": {},
   "source": [
    ":::{.callout-note collapse=\"false\"}\n",
    "\n",
    "You will need Empadronamiento to request the TIE.\n",
    "\n",
    "Nevertheless, you can book the appointment for requesting the TIE before getting your Empadronamiento. What matters is that, on the day of the appointment, you must already have an Empadronamiento Certificate.\n",
    "\n",
    ":::"
   ]
  },
  {
   "cell_type": "markdown",
   "metadata": {},
   "source": [
    ":::{.callout-caution collapse=\"false\"}\n",
    "\n",
    "There are deadlines for getting a TIE.\n",
    "\n",
    "- If you first enter Spain with a student visa, you must apply for a TIE during the following 30 days.\n",
    "\n",
    "- If you get a favorable *Resolución*, you must apply for a TIE during the following 30 days.\n",
    "\n",
    "The good news is that getting an appointment at the Police Office counts as starting the request process. So, if your appointment is later than the 30 days deadline, you will be ok.\n",
    "\n",
    "This is why you should try to book appointments as soon as possible.\n",
    "\n",
    ":::"
   ]
  },
  {
   "cell_type": "markdown",
   "metadata": {},
   "source": [
    "> In the website to make appointments, you have to select \"POLICIA- TOMA DE HUELLAS (EXPEDICIÓN DE TARJETA)\"\n"
   ]
  },
  {
   "cell_type": "markdown",
   "metadata": {},
   "source": [
    "You must present the following documents at the Police Office:\n",
    "\n",
    "- Your valid passport\n",
    "- *Empadronamiento* Certificate\n",
    "- Proof that you have the [right to stay in Spain](https://luisavasquez.github.io/quiescens-lct/posts/2022-03-01-right_stay_spain.html) (containing your NIE), which can be either:\n",
    "  - Your valid Student Visa, OR\n",
    "  - a *Resolución* in your favor (together with an old/expired TIE if you have one)\n",
    "- An ID photo\n",
    "  - If you are getting a new TIE, you can keep using your old photo\n",
    "- [Proof of payment](https://luisavasquez.github.io/quiescens-lct/posts/2022-02-16-fees_police_appointments.html) of [fee `790-012`](https://sede.policia.gob.es/Tasa790_012/ImpresoRellenar)\n",
    "  - Note that the amount to pay is different if you are asking for your first TIE than if you are asking for a new TIE\n",
    "  - In either case, as of 2024, it is less than 20 €\n",
    "- [Form `EX-17`](https://www.inclusion.gob.es/documents/410169/2156469/17-Formulario_TIE.pdf)\n",
    "  - You can find a tutorial to fill out this form on the UPC website mentioned above.\n"
   ]
  },
  {
   "cell_type": "markdown",
   "metadata": {},
   "source": [
    "## About fee 790-012\n",
    "\n",
    "There are five options for TIEs that are covered by fee `790-012`. As non-EU international students, only two concern you:\n",
    "\n",
    "- For your first ever TIE, you need to select \"TIE que documenta la primera concesión de la autorización de residencia temporal, de estancia o para trabajadores transfronterizos.\"\n",
    "  - Litteraly: TIE for first authorization of *Estancia*, or *Residencia*, or ...\n",
    "- If you are __extending__ your permit, you need to select \"TIE que documenta la renovación de la autorización de residencia temporal o la prórroga de la estancia o de la autorización para trabajadores transfronterizos.\"\n",
    "  - Litteraly: TIE for extension of authorization of *Estancia*, or *Residencia*, or ...\n",
    "- If you are __changing__ your permit, for example, from a Student Permit to a Job-seeker Permit, then you will be asking for your _first_ TIE with the new kind of permit. In this case, you have to select \"TIE que documenta la primera concesión de la autorización de residencia temporal, de estancia o para trabajadores transfronterizos.\"\n",
    "  - Litteraly: TIE for first authorization of *Estancia*, or *Residencia*, or ..."
   ]
  },
  {
   "cell_type": "markdown",
   "metadata": {},
   "source": [
    "# Picking up the TIE"
   ]
  },
  {
   "cell_type": "markdown",
   "metadata": {},
   "source": [
    "You have to pick up the TIE at least one month after requesting it.\n",
    "\n",
    ":::{.callout-note collapse=\"false\"}\n",
    "\n",
    "I recommend you book the appointment to pick up the TIE just after requesting it, because the queues are very long.\n",
    "\n",
    ":::"
   ]
  },
  {
   "cell_type": "markdown",
   "metadata": {},
   "source": [
    "> In the website to make appointments, you have to select \"POLICIA - RECOGIDA DE TARJETA DE IDENTIDAD DE EXTRANJERO (TIE)\""
   ]
  },
  {
   "cell_type": "markdown",
   "metadata": {},
   "source": [
    "To pick up your TIE, you just need the following documents:\n",
    "\n",
    "- Your valid passport\n",
    "- The receipt they gave you on the first appointment\n",
    "- If you are requesting a new TIE, you must show your old TIE\n",
    "- If you lost your old TIE, you must show a Police Report about this.\n",
    "\n",
    "Then, they will give you your TIE, and that is it."
   ]
  },
  {
   "cell_type": "markdown",
   "metadata": {},
   "source": [
    "# Enjoy yourself"
   ]
  },
  {
   "cell_type": "markdown",
   "metadata": {},
   "source": [
    "If you have your TIE, then you will have already gone through the hardest part of Spanish Immigration!"
   ]
  }
 ],
 "metadata": {
  "interpreter": {
   "hash": "916dbcbb3f70747c44a77c7bcd40155683ae19c65e1c03b4aa3499c5328201f1"
  },
  "kernelspec": {
   "display_name": "visualization-curriculum-gF8wUgMm",
   "language": "python",
   "name": "python3"
  },
  "language_info": {
   "codemirror_mode": {
    "name": "ipython",
    "version": 3
   },
   "file_extension": ".py",
   "mimetype": "text/x-python",
   "name": "python",
   "nbconvert_exporter": "python",
   "pygments_lexer": "ipython3",
   "version": "3.8.10 (default, Nov 14 2022, 12:59:47) \n[GCC 9.4.0]"
  },
  "varInspector": {
   "cols": {
    "lenName": 16,
    "lenType": 16,
    "lenVar": 40
   },
   "kernels_config": {
    "python": {
     "delete_cmd_postfix": "",
     "delete_cmd_prefix": "del ",
     "library": "var_list.py",
     "varRefreshCmd": "print(var_dic_list())"
    },
    "r": {
     "delete_cmd_postfix": ") ",
     "delete_cmd_prefix": "rm(",
     "library": "var_list.r",
     "varRefreshCmd": "cat(var_dic_list()) "
    }
   },
   "types_to_exclude": [
    "module",
    "function",
    "builtin_function_or_method",
    "instance",
    "_Feature"
   ],
   "window_display": false
  }
 },
 "nbformat": 4,
 "nbformat_minor": 4
}
