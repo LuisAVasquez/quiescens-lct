{
 "cells": [
  {
   "cell_type": "raw",
   "metadata": {},
   "source": [
    "---\n",
    "aliases:\n",
    "- /Donostia/Spanish bureaucracy/2022/02/09/transportation_donostia\n",
    "badges: true\n",
    "categories:\n",
    "- Donostia\n",
    "date: '2022-02-09'\n",
    "description: Moving around and outside Donostia\n",
    "output-file: 2022-02-09-transportation_donostia.html\n",
    "title: 'Life in Donostia: Transportation'\n",
    "toc: true\n",
    "\n",
    "---\n",
    "\n"
   ]
  },
  {
   "cell_type": "markdown",
   "metadata": {},
   "source": [
    ":::{.callout-note collapse=\"false\"}\n",
    "\n",
    "Please read [this guide to the LCT in Spain written by previous students](https://npbeck.github.io/lct-infos/)\n",
    "\n",
    ":::\n",
    "\n"
   ]
  },
  {
   "cell_type": "markdown",
   "metadata": {},
   "source": [
    "# Transportation Around Donostia"
   ]
  },
  {
   "cell_type": "markdown",
   "metadata": {},
   "source": [
    "## Walking"
   ]
  },
  {
   "cell_type": "markdown",
   "metadata": {},
   "source": [
    "For many of us, Donostia was one of the most beautiful cities we had lived in. It is really worth exploring it by yourself. \n",
    "\n",
    "The beaches, the architecture, the food, it is all worth trying out."
   ]
  },
  {
   "cell_type": "markdown",
   "metadata": {},
   "source": [
    "## Bus"
   ]
  },
  {
   "cell_type": "markdown",
   "metadata": {},
   "source": [
    "- The main mode of transportation inside Donostia is the bus.\n",
    "- Use the [DBUS](https://www.dbus.eus/en/) app to get the bus time tables. Google Maps is not trustworthy in Donostia.\n",
    "- On a bus, you can pay by cash, credit or debit card, or a local transportation card.\n",
    "- The full bus fare it **1.85€** per ride, as of 2023.\n",
    "- If you get a local transportation card, the **Mugi Card**, you don't have to pay the full fare."
   ]
  },
  {
   "cell_type": "markdown",
   "metadata": {},
   "source": [
    "## MUGI Card\n",
    "\n",
    "> This subsection is a copy of what I wrote in a previous post and it is here for completeness, you are free to skip it."
   ]
  },
  {
   "cell_type": "markdown",
   "metadata": {},
   "source": [
    "- There are three types of Mugi Card:\n",
    "  - Personalized Mugi Card: This one has your name and photo. It takes two weeks to get one. The fare per ride is around **0.60€**.\n",
    "  - Youth Mugi Card: Like the Personalized Mugi Card, but for people under 25. You need *empadronamiento* for this one. The fare per ride is around **0.40**.\n",
    "  - Anonymous Mugi Card: The most general Mugi Card. You can just buy and use it. The fare per ride is around **0.80**.\n",
    "- All Mugi Cards cost **5.00€**.\n",
    "\n",
    "So, during your first days in Donostia, it is very convenient to just buy an Anonymous Mugi Card and use it until you figure out how to get one of the other ones. \n",
    "\n"
   ]
  },
  {
   "cell_type": "markdown",
   "metadata": {},
   "source": [
    "### Where to get the Anonymous Mugi Card? \n",
    "\n",
    "There are a lot of small shops around Donostia where you can buy and charge a Mugi Card. Just walk around until you see one. If you prefer to know a specific place, I know you can buy them in this small library:"
   ]
  },
  {
   "cell_type": "markdown",
   "metadata": {},
   "source": [
    "<iframe src=\"https://www.google.com/maps/embed?pb=!1m18!1m12!1m3!1d2902.9405683388277!2d-1.983446332293701!3d43.31550354009262!2m3!1f0!2f0!3f0!3m2!1i1024!2i768!4f13.1!3m3!1m2!1s0xd51a5bb6538db7b%3A0x2ad090cd1f272c09!2sLibreria%20Jade!5e0!3m2!1sen!2ses!4v1677192125278!5m2!1sen!2ses\" width=\"400\" height=\"300\" style=\"border:0;\" allowfullscreen=\"\" loading=\"lazy\" referrerpolicy=\"no-referrer-when-downgrade\"></iframe>"
   ]
  },
  {
   "cell_type": "markdown",
   "metadata": {},
   "source": [
    "### Where to charge your Mugi Card?\n",
    "\n",
    "- By cash: in a lot of shops around Donostia. Just walk around and you'll find them.\n",
    "- By card: \n",
    "  - In Kutxabank ATMs\n",
    "  - In the central bus station\n",
    "  - In the Euskotren (tram) stations"
   ]
  },
  {
   "cell_type": "markdown",
   "metadata": {},
   "source": [
    "### How to get a personalised MUGI card?"
   ]
  },
  {
   "cell_type": "markdown",
   "metadata": {},
   "source": [
    "The [official website](https://www.mugi.eus/index.php/en/) does not include instructions in English, as of 2023.\n",
    "\n",
    "In order to get a personalised MUGI card, as a foreigner, you will have to ask for it in person.\n",
    "\n",
    "First, go to the MUGI office next to the Amara metro station. Here you will get the appropiate form for requesting a personalized MUGI card."
   ]
  },
  {
   "cell_type": "markdown",
   "metadata": {},
   "source": [
    "<iframe src=\"https://www.google.com/maps/embed?pb=!1m18!1m12!1m3!1d431.54142094331166!2d-1.9818648391676608!3d43.31315095325706!2m3!1f0!2f0!3f0!3m2!1i1024!2i768!4f13.1!3m3!1m2!1s0xd51a5006ecda483%3A0xd588e1d81e451c2c!2sOficinas%20mugui!5e0!3m2!1sen!2sfr!4v1712666670455!5m2!1sen!2sfr\" width=\"400\" height=\"300\" style=\"border:0;\" allowfullscreen=\"\" loading=\"lazy\" referrerpolicy=\"no-referrer-when-downgrade\"></iframe>"
   ]
  },
  {
   "cell_type": "markdown",
   "metadata": {},
   "source": [
    "- You can make an appointment in their website, however, this is not mandatory. You can just show up and wait for a while. \n",
    "- Take your passport and an ID photo with you.\n",
    "- They will give you a form for requesting the card. If you are lucky, they will help you fill out the form.\n",
    "\n",
    "\n",
    "Second, you have to take this form to a shop that handles the delivery of MUGI cards. There are several shops like this around Donostia. One of the shops closest to the Amara station is the small library mentioned above. Here is where you deposit your form and pay 5€."
   ]
  },
  {
   "cell_type": "markdown",
   "metadata": {},
   "source": [
    "<iframe src=\"https://www.google.com/maps/embed?pb=!1m18!1m12!1m3!1d2902.9405683388277!2d-1.983446332293701!3d43.31550354009262!2m3!1f0!2f0!3f0!3m2!1i1024!2i768!4f13.1!3m3!1m2!1s0xd51a5bb6538db7b%3A0x2ad090cd1f272c09!2sLibreria%20Jade!5e0!3m2!1sen!2ses!4v1677192125278!5m2!1sen!2ses\" width=\"400\" height=\"300\" style=\"border:0;\" allowfullscreen=\"\" loading=\"lazy\" referrerpolicy=\"no-referrer-when-downgrade\"></iframe>"
   ]
  },
  {
   "cell_type": "markdown",
   "metadata": {},
   "source": [
    "Third, wait around 10 days for your card to arrive to the shop.\n",
    "\n",
    "\n",
    "Why is it so complicated? Well, there is an online application process, however, it is designed for Spanish citizens with and official address (*empadronamiento*). Everybody else has to go through the long process.\n",
    "\n",
    "\n",
    "Note that, if you are younger than 25 years, then, after you get your *empadronamiento*, you will be able to get a Youth MUGI card, which gives you an extremely low price."
   ]
  },
  {
   "cell_type": "markdown",
   "metadata": {},
   "source": [
    "## Bike"
   ]
  },
  {
   "cell_type": "markdown",
   "metadata": {},
   "source": [
    "<iframe src=\"https://www.google.com/maps/embed?pb=!4v1712668736658!6m8!1m7!1sCAoSLEFGMVFpcFA3M2hCUmFzcGdDQkZmTndRUjY2NDQyeDZ1eDRDdFlRX2pVTk1r!2m2!1d43.3147272!2d-1.9962978!3f13.916079375163974!4f-11.445193198880858!5f0.7820865974627469\" width=\"600\" height=\"450\" style=\"border:0;\" allowfullscreen=\"\" loading=\"lazy\" referrerpolicy=\"no-referrer-when-downgrade\"></iframe>"
   ]
  },
  {
   "cell_type": "markdown",
   "metadata": {},
   "source": [
    "Donostia has good bike infrastructure, except in Parte Vieja.\n",
    "Going around the city by bike is worth it, and the view along the beaches is beautiful.\n",
    "\n",
    "Your best bets to buy a second hand bike are on the *Wallapop* app and in Facebook Marketplace.\n",
    "\n",
    "Otherwise, there is a bike sharing service, called [DBIZI](https://www.dbizi.eus/es/bienvenido), where you can reserve bikes using the [PBSC App](https://www.pbsc.com/es/ciudades/san-sebastian). \n",
    "\n",
    "The monthly subscription costs around 6€. With the subscription, each ride under 30 minutes costs 0,50€. This time window is very generous, as biking from the center to the University takes around 15 minutes."
   ]
  },
  {
   "cell_type": "markdown",
   "metadata": {},
   "source": [
    "<iframe src=\"https://www.google.com/maps/embed?pb=!1m28!1m12!1m3!1d11611.996119681919!2d-2.0074162238427706!3d43.314279737921005!2m3!1f0!2f0!3f0!3m2!1i1024!2i768!4f13.1!4m13!3e1!4m5!1s0xd51a551e9902751%3A0x9b2735e013dc35d4!2sGipuzkoa%20Plaza%2C%2010%2C%2020004%20Donostia%2C%20Gipuzkoa%2C%20Spain!3m2!1d43.3211373!2d-1.9821448!4m5!1s0xd51b074753cca0d%3A0x6b04b77ccb51f778!2sFacultad%20de%20Inform%C3%A1tica%20UPV%2FEHU%2C%20Manuel%20Lardizabal%20pasealekua%2C%20Donostia-San%20Sebastian%2C%20Spain!3m2!1d43.307276099999996!2d-2.0106851999999997!5e0!3m2!1sen!2sfr!4v1712668305660!5m2!1sen!2sfr\" width=\"600\" height=\"450\" style=\"border:0;\" allowfullscreen=\"\" loading=\"lazy\" referrerpolicy=\"no-referrer-when-downgrade\"></iframe>"
   ]
  },
  {
   "cell_type": "markdown",
   "metadata": {},
   "source": [
    "# Transportation Outside Donostia"
   ]
  },
  {
   "cell_type": "markdown",
   "metadata": {},
   "source": [
    "## Tram / Light metro\n",
    "\n",
    "The _Euskotren_, colloquially called \"topo\", is the tram connecting Donostia to the districts in the outskirts and the sourrounding towns. You pay with the MUGI card."
   ]
  },
  {
   "cell_type": "markdown",
   "metadata": {},
   "source": [
    "It can get you from Hendaye, a French town at the border, to Bilbao.\n",
    "\n",
    "With a fairly low ticket price, it is very convenient for exploring the areas around Donostia, where the landscapes are beautiful.\n",
    "\n",
    "<iframe src=\"https://www.google.com/maps/embed?pb=!1m18!1m12!1m3!1d431.54142094331166!2d-1.9818648391676608!3d43.31315095325706!2m3!1f0!2f0!3f0!3m2!1i1024!2i768!4f13.1!3m3!1m2!1s0xd51a556256e88e5%3A0x38d1f9552170dff7!2sAmara-Donostia!5e0!3m2!1sen!2sfr!4v1712667721798!5m2!1sen!2sfr\" width=\"600\" height=\"450\" style=\"border:0;\" allowfullscreen=\"\" loading=\"lazy\" referrerpolicy=\"no-referrer-when-downgrade\"></iframe>"
   ]
  },
  {
   "cell_type": "markdown",
   "metadata": {},
   "source": [
    "The metro station closest to the University is called Lugaritz.\n",
    "\n",
    "<iframe src=\"https://www.google.com/maps/embed?pb=!1m18!1m12!1m3!1d5325.154770551776!2d-2.0026674950465635!3d43.30250833631923!2m3!1f0!2f0!3f0!3m2!1i1024!2i768!4f13.1!3m3!1m2!1s0xd51b00fd47ac30d%3A0xec2b6d53b0baa58d!2sLUGARITZ%20DONOSTIA!5e0!3m2!1sen!2sfr!4v1712667757439!5m2!1sen!2sfr\" width=\"400\" height=\"300\" style=\"border:0;\" allowfullscreen=\"\" loading=\"lazy\" referrerpolicy=\"no-referrer-when-downgrade\"></iframe>"
   ]
  },
  {
   "cell_type": "markdown",
   "metadata": {},
   "source": [
    "## Regional buses"
   ]
  },
  {
   "cell_type": "markdown",
   "metadata": {},
   "source": [
    "<iframe src=\"https://www.google.com/maps/embed?pb=!1m18!1m12!1m3!1d665.484571174389!2d-1.9779488490699606!3d43.31710291652077!2m3!1f0!2f0!3f0!3m2!1i1024!2i768!4f13.1!3m3!1m2!1s0xd51a55a1c48dfe7%3A0x634e6fc895baea6b!2sSan%20Sebasti%C3%A1n%20Bus%20Station!5e0!3m2!1sen!2sfr!4v1712667810815!5m2!1sen!2sfr\" width=\"600\" height=\"450\" style=\"border:0;\" allowfullscreen=\"\" loading=\"lazy\" referrerpolicy=\"no-referrer-when-downgrade\"></iframe>"
   ]
  },
  {
   "cell_type": "markdown",
   "metadata": {},
   "source": [
    "*Lurraldebus* is a bus company connecting the Gipuzkoa province to other provinces.\n",
    "\n",
    "This is the more convenient way to get to the sourrounding cities, namely, Bilbao and Vitoria-Gasteiz. The buses come and go frequently (at least one per hour) and work even until late in the weekends.\n",
    "\n",
    "You can pay the ticket with cash or card at the main bus station, however, paying with the MUGI card the price is much lower."
   ]
  },
  {
   "cell_type": "markdown",
   "metadata": {},
   "source": [
    ":::{.callout-note collapse=\"false\"}\n",
    "\n",
    "As of 2024, the MUGI card can also be used to pay for all the public transport in Bilbao.\n",
    "\n",
    ":::"
   ]
  },
  {
   "cell_type": "markdown",
   "metadata": {},
   "source": [
    "## Airports"
   ]
  },
  {
   "cell_type": "markdown",
   "metadata": {},
   "source": [
    "There are three airports reasonably close to Donostia."
   ]
  },
  {
   "cell_type": "markdown",
   "metadata": {},
   "source": [
    "1. The \"Donostia\" Airport, which is really located in the town of Irun, is the closest to Donostia. It is has very few connections, mainly to bigger cities in Spain.\n",
    "\n",
    "Getting from the city center to the airport takes around 50 minutes by bus."
   ]
  },
  {
   "cell_type": "markdown",
   "metadata": {},
   "source": [
    "<iframe src=\"https://www.google.com/maps/embed?pb=!1m18!1m12!1m3!1d2900.9887714176975!2d-1.7937784232301497!3d43.35634547111778!2m3!1f0!2f0!3f0!3m2!1i1024!2i768!4f13.1!3m3!1m2!1s0xd510900422fd091%3A0x46d542f373c780f6!2sAeropuerto%20de%20San%20Sebasti%C3%A1n%20(EAS)!5e0!3m2!1ses!2sfr!4v1712669202655!5m2!1ses!2sfr\" width=\"400\" height=\"300\" style=\"border:0;\" allowfullscreen=\"\" loading=\"lazy\" referrerpolicy=\"no-referrer-when-downgrade\"></iframe>"
   ]
  },
  {
   "cell_type": "markdown",
   "metadata": {},
   "source": [
    "2. The Bilbao Airport hosts bigger airlines and several budget airlines. There are regional buses from Donostia to this airport."
   ]
  },
  {
   "cell_type": "markdown",
   "metadata": {},
   "source": [
    "<iframe src=\"https://www.google.com/maps/embed?pb=!1m18!1m12!1m3!1d2903.5734835282033!2d-2.918021023232469!3d43.30225297112092!2m3!1f0!2f0!3f0!3m2!1i1024!2i768!4f13.1!3m3!1m2!1s0xd4e456846ec45ab%3A0xc8b4a1b45d817b42!2sAeropuerto%20de%20Bilbao!5e0!3m2!1ses!2sfr!4v1712669343061!5m2!1ses!2sfr\" width=\"400\" height=\"300\" style=\"border:0;\" allowfullscreen=\"\" loading=\"lazy\" referrerpolicy=\"no-referrer-when-downgrade\"></iframe>"
   ]
  },
  {
   "cell_type": "markdown",
   "metadata": {},
   "source": [
    "1. The Vitoria-Gasteiz airport, which hosts RyanAir, with a lot of connections. To get to this airport, you can take a regional bus to Vitoria-Gasteiz, taking one hour and a half, and then a bus for 20 minutes. "
   ]
  },
  {
   "cell_type": "markdown",
   "metadata": {},
   "source": [
    "<iframe src=\"https://www.google.com/maps/embed?pb=!1m18!1m12!1m3!1d2923.4995318588235!2d-2.7337946232502213!3d42.88340637114917!2m3!1f0!2f0!3f0!3m2!1i1024!2i768!4f13.1!3m3!1m2!1s0xd4fe0809d8984bf%3A0x8da668dab7afa3c6!2sAeropuerto%20de%20Vitoria%20(VIT)!5e0!3m2!1ses!2sfr!4v1712669428119!5m2!1ses!2sfr\" width=\"400\" height=\"300\" style=\"border:0;\" allowfullscreen=\"\" loading=\"lazy\" referrerpolicy=\"no-referrer-when-downgrade\"></iframe>"
   ]
  }
 ],
 "metadata": {
  "interpreter": {
   "hash": "916dbcbb3f70747c44a77c7bcd40155683ae19c65e1c03b4aa3499c5328201f1"
  },
  "kernelspec": {
   "display_name": "visualization-curriculum-gF8wUgMm",
   "language": "python",
   "name": "python3"
  },
  "language_info": {
   "codemirror_mode": {
    "name": "ipython",
    "version": 3
   },
   "file_extension": ".py",
   "mimetype": "text/x-python",
   "name": "python",
   "nbconvert_exporter": "python",
   "pygments_lexer": "ipython3",
   "version": "3.8.10 (default, Nov 14 2022, 12:59:47) \n[GCC 9.4.0]"
  },
  "varInspector": {
   "cols": {
    "lenName": 16,
    "lenType": 16,
    "lenVar": 40
   },
   "kernels_config": {
    "python": {
     "delete_cmd_postfix": "",
     "delete_cmd_prefix": "del ",
     "library": "var_list.py",
     "varRefreshCmd": "print(var_dic_list())"
    },
    "r": {
     "delete_cmd_postfix": ") ",
     "delete_cmd_prefix": "rm(",
     "library": "var_list.r",
     "varRefreshCmd": "cat(var_dic_list()) "
    }
   },
   "types_to_exclude": [
    "module",
    "function",
    "builtin_function_or_method",
    "instance",
    "_Feature"
   ],
   "window_display": false
  }
 },
 "nbformat": 4,
 "nbformat_minor": 4
}
