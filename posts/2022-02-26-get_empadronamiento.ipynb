{
 "cells": [
  {
   "cell_type": "raw",
   "metadata": {
    "vscode": {
     "languageId": "raw"
    }
   },
   "source": [
    "---\n",
    "aliases:\n",
    "- /Donostia/Spanish bureaucracy/2022/02/26/get_empadronamiento\n",
    "badges: true\n",
    "categories:\n",
    "- Donostia\n",
    "- Spanish bureaucracy\n",
    "date: '2022-02-26'\n",
    "description: Your Foreinger Identification Number\n",
    "output-file: 2022-02-26-get_empadronamiento.html\n",
    "title: 'Settling in Spain: How to get Empadronamiento'\n",
    "toc: true\n",
    "\n",
    "---\n",
    "\n"
   ]
  },
  {
   "cell_type": "markdown",
   "metadata": {},
   "source": [
    ":::{.callout-note collapse=\"false\"}\n",
    "\n",
    "Please read [this guide to the LCT in Spain written by previous students](https://npbeck.github.io/lct-infos/)\n",
    "\n",
    "The Polytechnic University of Catalunya's (UPC) International Office has put together [this great resource](https://www.upc.edu/sri/en/mobility_office/students-mobility-office/incomings/legal-issues) covering all possible cases of Spanish bureaucracy for international students. It contains explanations and tutorials (with pictures to navigate forms and official websites)! Available in English, Spanish, and Catalan.\n",
    "\n",
    ":::\n",
    "\n"
   ]
  },
  {
   "cell_type": "markdown",
   "metadata": {},
   "source": [
    "[*Empadronamiento*](https://luisavasquez.github.io/quiescens-lct/posts/2022-02-03-bureaucracy_to_do_spain.html) is the administrative process by which you officially register your address in Spain. It is administered by the local town hall.\n",
    "\n",
    "Here, I give an overview of the process to get your Empadronamiento in Donostia."
   ]
  },
  {
   "cell_type": "markdown",
   "metadata": {},
   "source": [
    ":::{.callout-note collapse=\"false\"}\n",
    "\n",
    "*Empadronamiento* is free! \n",
    "\n",
    ":::"
   ]
  },
  {
   "cell_type": "markdown",
   "metadata": {},
   "source": [
    "# *Empadronamiento* in Donostia"
   ]
  },
  {
   "cell_type": "markdown",
   "metadata": {},
   "source": [
    ":::{.callout-note collapse=\"false\"}\n",
    "\n",
    "[Official Website for Empadronamiento en Donostia (Spanish)](https://www.donostia.eus/info/udalinfo/tramites.nsf/vTramites/8A56560AE3CA7957C125814500390C56?OpenDocument&id=D580485&idioma=cas). \n",
    "\n",
    "If the link is broken, search for \"\n",
    "Padrón Municipal de Habitantes: alta\n",
    "\" in the [Official Website of Donostia](https://www.donostia.eus)\n",
    "\n",
    ":::\n",
    "\n"
   ]
  },
  {
   "cell_type": "markdown",
   "metadata": {},
   "source": [
    "Luckily, Empadronamiento in Donostia is fairly easy if you fulfill all the requirements.\n",
    "\n",
    "Empadronamiento can be done online, with a digital certificate, however, being a foreigner just arrived to Spain, you will have to do it in person."
   ]
  },
  {
   "cell_type": "markdown",
   "metadata": {},
   "source": [
    "The town hall of Donostia has an office for several bureaucratic processes, called \"**Udalinfo**\", where you can do your Empadronamiento. \n",
    "\n",
    "Though technically you have to make an appointment and fill out a form, as of 2024, **you can go without an appointment** and they will give you the form and help you fill it out. The waiting time will be **less than an hour**."
   ]
  },
  {
   "cell_type": "markdown",
   "metadata": {},
   "source": [
    "<iframe src=\"https://www.google.com/maps/embed?pb=!1m18!1m12!1m3!1d11611.996617866005!2d-1.99320113649189!3d43.3142771307144!2m3!1f0!2f0!3f0!3m2!1i1024!2i768!4f13.1!3m3!1m2!1s0xd51a551a5f29733%3A0xcc3daeda7d0ecbf7!2sUdalinfo%20arroka!5e0!3m2!1ses!2ses!4v1715591668915!5m2!1ses!2ses\" width=\"400\" height=\"300\" style=\"border:0;\" allowfullscreen=\"\" loading=\"lazy\" referrerpolicy=\"no-referrer-when-downgrade\"></iframe>"
   ]
  },
  {
   "cell_type": "markdown",
   "metadata": {},
   "source": [
    "# Requirements"
   ]
  },
  {
   "cell_type": "markdown",
   "metadata": {},
   "source": [
    ":::{.callout-note collapse=\"false\"}\n",
    "\n",
    "*Empadronamiento* is independent of your immigration status. \n",
    "\n",
    ":::"
   ]
  },
  {
   "cell_type": "markdown",
   "metadata": {},
   "source": [
    "## ID\n",
    "\n",
    "You can get your Empadronamiento with your NIE or your passport. \n",
    "\n",
    "It is preferred that your Empadronamiento Certificate shows your NIE, as you will need this certificate for some bureaucracy with the Foreigners Office and the Police Office. Therefore, if you make your Empadronamiento with your passport, it is recommended, as soon as you get a NIE, to get Empadronamiento again with your NIE."
   ]
  },
  {
   "cell_type": "markdown",
   "metadata": {},
   "source": [
    "## Proof of accomodation\n",
    "\n",
    "There are different valid proofs of accomodation depending on your situation.\n",
    "\n",
    "### You are staying at someone's place\n",
    "\n",
    "If you are staying at someone's place and this person _is the owner (propietario/a)_ of the place, then they can give you Empadronamiento at their address.\n",
    "\n",
    "In this situation, it is best if the owner accompanies you to the Udalinfo office.\n",
    "\n",
    "- The owner will have to provide proof of ownership (not complicated)\n",
    "- The owner will have to show their ID\n",
    "- The owner will have to sign on a form that the people at Udalinfo will provide\n",
    "\n",
    "That is it!\n",
    "\n",
    "### You are renting\n",
    "\n",
    ":::{.callout-note collapse=\"false\"}\n",
    "\n",
    "You need a contract for *Empadronamiento*! \n",
    "\n",
    "Some landlords want to avoid taxes by not offering contracts (in Spanish this is called \"alquilar _en negro_\").\n",
    "\n",
    ":::\n",
    "\n",
    "\n",
    "There are two common renting situations:\n",
    "\n",
    "---\n",
    "\n",
    "1. The owner rents the place themselves, thus, the rental contract is between you and the owner.\n",
    "\n",
    "You will need:\n",
    "\n",
    "- (A copy of) your rental contract\n",
    "- Proof of rent payment of the last month. You can ask the owner to write you a receipt.\n",
    "\n",
    "---\n",
    "\n",
    "2. The owner designates an Administrator to take care of the property. In this case, the rental contract is between you and the Administrator. The Administrator may be another person, or a company (*agencia inmobiliaria*).\n",
    "\n",
    "You will need:\n",
    "\n",
    "- Your rental contract\n",
    "- Proof of rent payment of the last month. You can ask the Administrator to write you a receipt.\n",
    "- Proof that the Administrator is associated to the owner. You can ask for a receipt that shows that the Administrator transmitted the rent payment to the owner. \n",
    "\n",
    "---\n",
    "\n",
    "### My case\n",
    "\n",
    "In my case, I was renting at a place that had an Administrator. \n",
    "\n",
    "I had to go to the Udalinfo Office three times for clarifications about the necessary documents.\n",
    "\n",
    "- The first time, I went only with my contract, and they told me I needed proof of payment of the last month.\n",
    "\n",
    "- The second time, I took both the contract and the receipt for the last month, and they told me I needed proof that the Administrator was associated with the owner. They explained what kind of documents could work.\n",
    "\n",
    "- As proof that the Administrator was associated with the owner, a bank transfer statement worked. This bank transfer from the Administrator to the owner had the description \"*Alquiler de Septiembre* (Rent for September)\".\n",
    "\n",
    "- The third time I went to the Udalinfo office, the worker that assisted me did not know all the details of how to do Empadronamiento when there is an Administrator, and thus refused to do it. \n",
    "\n",
    "- Finally, this worker called a more experienced one, who saw my papers, said they were OK, and proceeded to make my Empadronamiento.\n"
   ]
  },
  {
   "cell_type": "markdown",
   "metadata": {},
   "source": [
    "# *Empadronamiento* Certificate"
   ]
  },
  {
   "cell_type": "markdown",
   "metadata": {},
   "source": [
    "After the people at Udalinfo have made your Empadronamiento, they will give you an Empadronamiento Certificate, which you will need for further bureaucracy.\n",
    "\n",
    "You can ask them to send you a digital copy of the Empadronamiento Certificate, which will be officially digitally signed. This is usefull as a lot of bureaucracy in Spain can be done online.\n",
    "\n",
    "Some bureaucratic processes ask you for an Empadronamiento Certificate that is less than 3 months old. \n",
    "\n",
    "If you need a more recent Empadronamiento Certificate you can\n",
    "\n",
    "- get it for free and quickly at Udalinfo \n",
    "- download it online, if you have digital certificates (\"BakQ\")"
   ]
  }
 ],
 "metadata": {
  "interpreter": {
   "hash": "916dbcbb3f70747c44a77c7bcd40155683ae19c65e1c03b4aa3499c5328201f1"
  },
  "kernelspec": {
   "display_name": "visualization-curriculum-gF8wUgMm",
   "language": "python",
   "name": "python3"
  },
  "language_info": {
   "codemirror_mode": {
    "name": "ipython",
    "version": 3
   },
   "file_extension": ".py",
   "mimetype": "text/x-python",
   "name": "python",
   "nbconvert_exporter": "python",
   "pygments_lexer": "ipython3",
   "version": "3.8.10 (default, Nov 14 2022, 12:59:47) \n[GCC 9.4.0]"
  },
  "varInspector": {
   "cols": {
    "lenName": 16,
    "lenType": 16,
    "lenVar": 40
   },
   "kernels_config": {
    "python": {
     "delete_cmd_postfix": "",
     "delete_cmd_prefix": "del ",
     "library": "var_list.py",
     "varRefreshCmd": "print(var_dic_list())"
    },
    "r": {
     "delete_cmd_postfix": ") ",
     "delete_cmd_prefix": "rm(",
     "library": "var_list.r",
     "varRefreshCmd": "cat(var_dic_list()) "
    }
   },
   "types_to_exclude": [
    "module",
    "function",
    "builtin_function_or_method",
    "instance",
    "_Feature"
   ],
   "window_display": false
  }
 },
 "nbformat": 4,
 "nbformat_minor": 4
}
