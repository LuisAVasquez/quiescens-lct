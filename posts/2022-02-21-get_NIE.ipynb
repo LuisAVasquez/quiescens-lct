{
 "cells": [
  {
   "cell_type": "raw",
   "metadata": {
    "vscode": {
     "languageId": "raw"
    }
   },
   "source": [
    "---\n",
    "aliases:\n",
    "- /Donostia/Spanish bureaucracy/2022/02/21/get_nie\n",
    "badges: true\n",
    "categories:\n",
    "- Donostia\n",
    "- Spanish bureaucracy\n",
    "date: '2022-02-21'\n",
    "description: Your Foreinger Identification Number\n",
    "output-file: 2022-02-21-get_nie.html\n",
    "title: 'Settling in Spain: How to get a NIE'\n",
    "toc: true\n",
    "\n",
    "---\n",
    "\n"
   ]
  },
  {
   "cell_type": "markdown",
   "metadata": {},
   "source": [
    ":::{.callout-note collapse=\"false\"}\n",
    "\n",
    "Please read [this guide to the LCT in Spain written by previous students](https://npbeck.github.io/lct-infos/)\n",
    "\n",
    "The Polytechnic University of Catalunya's (UPC) International Office has put together [this great resource](https://www.upc.edu/sri/en/mobility_office/students-mobility-office/incomings/legal-issues) covering all possible cases of Spanish bureaucracy for international students. It contains explanations and tutorials (with pictures to navigate forms and official websites)! Available in English, Spanish, and Catalan.\n",
    "\n",
    ":::\n",
    "\n"
   ]
  },
  {
   "cell_type": "markdown",
   "metadata": {},
   "source": [
    "[You will need a NIE](https://luisavasquez.github.io/quiescens-lct/posts/2022-02-03-bureaucracy_to_do_spain.html) to do most bureaucracy in Spain. \n",
    "\n",
    "Here, I give an overview of the process to get a NIE, depending on which situation you are in."
   ]
  },
  {
   "cell_type": "markdown",
   "metadata": {},
   "source": [
    "# You applied for a Spanish Student Visa"
   ]
  },
  {
   "cell_type": "markdown",
   "metadata": {},
   "source": [
    ":::{.callout-note collapse=\"false\"}\n",
    "\n",
    "This is the easiest way to get a NIE\n",
    "\n",
    ":::\n"
   ]
  },
  {
   "cell_type": "markdown",
   "metadata": {},
   "source": [
    "You need to [apply for a Spanish Student Visa](https://luisavasquez.github.io/quiescens-lct/posts/2022-01-10-spanish_visa.html) if:\n",
    "\n",
    "- you are not european, AND\n",
    "- you are not in Spain\n"
   ]
  },
  {
   "cell_type": "markdown",
   "metadata": {},
   "source": [
    "If you applied for a Spanish Student Visa, then it will contain your NIE number! Done!"
   ]
  },
  {
   "cell_type": "markdown",
   "metadata": {},
   "source": [
    "# You did not apply for a Spanish Student Visa"
   ]
  },
  {
   "cell_type": "markdown",
   "metadata": {},
   "source": [
    "This means that you either are european or already arrived to Spain."
   ]
  },
  {
   "cell_type": "markdown",
   "metadata": {},
   "source": [
    "## You are European"
   ]
  },
  {
   "cell_type": "markdown",
   "metadata": {},
   "source": [
    "As an european, you do not need any visa or permit to legally live, study, and work in Spain, lucky you! You will still need a NIE, though.\n",
    "\n",
    "If you are outside of Spain, you can contact your closest Spanish consulate, they are the ones in charge of assigning NIEs abroad.\n",
    "\n",
    "\n",
    "If you already arrived to Spain, then you will have to go through the \"*Registro de Ciudadano de la Unión*\" process described in a future post about the Right to Stay in Spain."
   ]
  },
  {
   "cell_type": "markdown",
   "metadata": {},
   "source": [
    "## You are not European"
   ]
  },
  {
   "cell_type": "markdown",
   "metadata": {},
   "source": [
    "In this situation, you took the risk of arriving to Spain as a tourist, hoping to do all the bureaucracy to become an Spanish resident. This situation is not unheard of, however, it is very delicate.\n",
    "\n",
    ":::{.callout-caution collapse=\"false\"}\n",
    "\n",
    "This is _not_ a good situation to be in: It _is_ possible to regularize your situation (and you almost surely will), but it _will_ take time and patience.\n",
    "\n",
    ":::\n",
    "\n",
    "To get a NIE you will have to go through the \"Assignación de NIE\" process described below.\n"
   ]
  },
  {
   "cell_type": "markdown",
   "metadata": {},
   "source": [
    "## NIE Assignment Process (Asignación de NIE) "
   ]
  },
  {
   "cell_type": "markdown",
   "metadata": {},
   "source": [
    "This process can only be done if you are already in Spain and do not have a NIE, and must be done in person.\n",
    "\n",
    "[Official website](https://sede.policia.gob.es/portalCiudadano/_es/tramites_extranjeria_tramite_asignacion_nie.php)"
   ]
  },
  {
   "cell_type": "markdown",
   "metadata": {},
   "source": [
    "- In Donostia, managed by the Police Office\n",
    "- You will have to [make an appointment and pay a fee](https://luisavasquez.github.io/quiescens-lct/posts/2022-02-16-fees_police_appointments.html)\n",
    "- You have to pay the fee (_tasa_) 790-012, of approximately 10€, as of 2023\n",
    "- You have to fill out form (_formulaio_) EX-15, where you will have to specify the reason that makes you ask for a NIE.\n",
    "- Studying at a Spanish University is sufficient reason for asking for a NIE.\n",
    "- You have to give some kind of proof of your situation: admission letters to University are enough."
   ]
  },
  {
   "cell_type": "markdown",
   "metadata": {},
   "source": [
    ":::{.callout-note collapse=\"false\"}\n",
    "\n",
    "You will receive your NIE at most __5 days__ after your appointment.\n",
    "\n",
    "Book your appointment early!\n",
    ":::"
   ]
  }
 ],
 "metadata": {
  "interpreter": {
   "hash": "916dbcbb3f70747c44a77c7bcd40155683ae19c65e1c03b4aa3499c5328201f1"
  },
  "kernelspec": {
   "display_name": "visualization-curriculum-gF8wUgMm",
   "language": "python",
   "name": "python3"
  },
  "language_info": {
   "codemirror_mode": {
    "name": "ipython",
    "version": 3
   },
   "file_extension": ".py",
   "mimetype": "text/x-python",
   "name": "python",
   "nbconvert_exporter": "python",
   "pygments_lexer": "ipython3",
   "version": "3.8.10 (default, Nov 14 2022, 12:59:47) \n[GCC 9.4.0]"
  },
  "varInspector": {
   "cols": {
    "lenName": 16,
    "lenType": 16,
    "lenVar": 40
   },
   "kernels_config": {
    "python": {
     "delete_cmd_postfix": "",
     "delete_cmd_prefix": "del ",
     "library": "var_list.py",
     "varRefreshCmd": "print(var_dic_list())"
    },
    "r": {
     "delete_cmd_postfix": ") ",
     "delete_cmd_prefix": "rm(",
     "library": "var_list.r",
     "varRefreshCmd": "cat(var_dic_list()) "
    }
   },
   "types_to_exclude": [
    "module",
    "function",
    "builtin_function_or_method",
    "instance",
    "_Feature"
   ],
   "window_display": false
  }
 },
 "nbformat": 4,
 "nbformat_minor": 4
}
